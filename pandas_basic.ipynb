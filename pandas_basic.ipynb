{
  "cells": [
    {
      "cell_type": "markdown",
      "metadata": {
        "colab_type": "text",
        "id": "view-in-github"
      },
      "source": [
        "<a href=\"https://colab.research.google.com/github/yotam-biu/tutorial8/blob/main/pandas_basic.ipynb\" target=\"_parent\"><img src=\"https://colab.research.google.com/assets/colab-badge.svg\" alt=\"Open In Colab\"/></a>"
      ]
    },
    {
      "cell_type": "markdown",
      "id": "fk15gYCRtAeA",
      "metadata": {
        "id": "fk15gYCRtAeA"
      },
      "source": [
        "base on: \"https://geobgu.xyz/py/pandas1.html\""
      ]
    },
    {
      "cell_type": "code",
      "execution_count": 1,
      "id": "f85d102f",
      "metadata": {
        "id": "f85d102f"
      },
      "outputs": [],
      "source": [
        "import pandas as pd\n",
        "import numpy as np"
      ]
    },
    {
      "cell_type": "markdown",
      "id": "fa940d0c",
      "metadata": {
        "id": "fa940d0c"
      },
      "source": [
        "# 1\n",
        "Craete series and data-frame"
      ]
    },
    {
      "cell_type": "markdown",
      "id": "eO7jtwShtYgm",
      "metadata": {
        "id": "eO7jtwShtYgm"
      },
      "source": [
        "## 1.1\n",
        "Run the next cell to create a Pandas Series (a column of data) without a header. Your task is to find a way to add a header to this column.\n",
        "*italicized text*"
      ]
    },
    {
      "cell_type": "code",
      "execution_count": 4,
      "id": "f085d518",
      "metadata": {
        "id": "f085d518"
      },
      "outputs": [
        {
          "name": "stdout",
          "output_type": "stream",
          "text": [
            "0        Beer-Sheva Center\n",
            "1    Beer-Sheva University\n",
            "2                   Dimona\n",
            "Name: Name, dtype: object\n"
          ]
        }
      ],
      "source": [
        "name = pd.Series(['Beer-Sheva Center', 'Beer-Sheva University', 'Dimona']) # a column of names\n",
        "# add header to the column\n",
        "name.name = 'Name'\n",
        "print(name)\n"
      ]
    },
    {
      "cell_type": "markdown",
      "id": "_P9jfRZ-vupX",
      "metadata": {
        "id": "_P9jfRZ-vupX"
      },
      "source": [
        "\n",
        "## 1.2\n",
        "The next cell creates a DataFrame that does not include a column for city values. Your task is to add a new column named \"city\" to the DataFrame and populate it with the city values **after the table has been created**."
      ]
    },
    {
      "cell_type": "code",
      "execution_count": 6,
      "id": "8a39be17",
      "metadata": {
        "id": "8a39be17"
      },
      "outputs": [
        {
          "data": {
            "text/html": [
              "<div>\n",
              "<style scoped>\n",
              "    .dataframe tbody tr th:only-of-type {\n",
              "        vertical-align: middle;\n",
              "    }\n",
              "\n",
              "    .dataframe tbody tr th {\n",
              "        vertical-align: top;\n",
              "    }\n",
              "\n",
              "    .dataframe thead th {\n",
              "        text-align: right;\n",
              "    }\n",
              "</style>\n",
              "<table border=\"1\" class=\"dataframe\">\n",
              "  <thead>\n",
              "    <tr style=\"text-align: right;\">\n",
              "      <th></th>\n",
              "      <th>name</th>\n",
              "      <th>lines</th>\n",
              "      <th>piano</th>\n",
              "      <th>lon</th>\n",
              "      <th>lat</th>\n",
              "      <th>city</th>\n",
              "    </tr>\n",
              "  </thead>\n",
              "  <tbody>\n",
              "    <tr>\n",
              "      <th>0</th>\n",
              "      <td>Beer-Sheva Center</td>\n",
              "      <td>4</td>\n",
              "      <td>False</td>\n",
              "      <td>34.798443</td>\n",
              "      <td>31.243288</td>\n",
              "      <td>Beer-Sheva</td>\n",
              "    </tr>\n",
              "    <tr>\n",
              "      <th>1</th>\n",
              "      <td>Beer-Sheva University</td>\n",
              "      <td>5</td>\n",
              "      <td>True</td>\n",
              "      <td>34.812831</td>\n",
              "      <td>31.260284</td>\n",
              "      <td>Beer-Sheva</td>\n",
              "    </tr>\n",
              "    <tr>\n",
              "      <th>2</th>\n",
              "      <td>Dimona</td>\n",
              "      <td>1</td>\n",
              "      <td>False</td>\n",
              "      <td>35.011635</td>\n",
              "      <td>31.068616</td>\n",
              "      <td>Dimona</td>\n",
              "    </tr>\n",
              "  </tbody>\n",
              "</table>\n",
              "</div>"
            ],
            "text/plain": [
              "                    name  lines  piano        lon        lat        city\n",
              "0      Beer-Sheva Center      4  False  34.798443  31.243288  Beer-Sheva\n",
              "1  Beer-Sheva University      5   True  34.812831  31.260284  Beer-Sheva\n",
              "2                 Dimona      1  False  35.011635  31.068616      Dimona"
            ]
          },
          "execution_count": 6,
          "metadata": {},
          "output_type": "execute_result"
        }
      ],
      "source": [
        "lines = np.array([4, 5, 1])\n",
        "city = ['Beer-Sheva', 'Beer-Sheva', 'Dimona']\n",
        "piano = [False, True, False]\n",
        "lon = [34.798443, 34.812831, 35.011635]\n",
        "lat = [31.243288, 31.260284, 31.068616]\n",
        "\n",
        "\n",
        "data = {'name': name, 'lines': lines, 'piano': piano, 'lon': lon, 'lat': lat}\n",
        "stations = pd.DataFrame(data)\n",
        "stations\n",
        "# add new column to the dataframe named 'city'\n",
        "stations['city'] = city\n",
        "stations"
      ]
    },
    {
      "cell_type": "markdown",
      "id": "oP-4aBHMwPBc",
      "metadata": {
        "id": "oP-4aBHMwPBc"
      },
      "source": [
        "## 1.3\n",
        "Create a new row with made-up values and add it to the DataFrame.  "
      ]
    },
    {
      "cell_type": "code",
      "execution_count": 8,
      "id": "c23f8387",
      "metadata": {
        "id": "c23f8387"
      },
      "outputs": [
        {
          "data": {
            "text/html": [
              "<div>\n",
              "<style scoped>\n",
              "    .dataframe tbody tr th:only-of-type {\n",
              "        vertical-align: middle;\n",
              "    }\n",
              "\n",
              "    .dataframe tbody tr th {\n",
              "        vertical-align: top;\n",
              "    }\n",
              "\n",
              "    .dataframe thead th {\n",
              "        text-align: right;\n",
              "    }\n",
              "</style>\n",
              "<table border=\"1\" class=\"dataframe\">\n",
              "  <thead>\n",
              "    <tr style=\"text-align: right;\">\n",
              "      <th></th>\n",
              "      <th>0</th>\n",
              "      <th>1</th>\n",
              "      <th>2</th>\n",
              "      <th>name</th>\n",
              "      <th>lines</th>\n",
              "      <th>piano</th>\n",
              "      <th>lon</th>\n",
              "      <th>lat</th>\n",
              "      <th>city</th>\n",
              "    </tr>\n",
              "  </thead>\n",
              "  <tbody>\n",
              "    <tr>\n",
              "      <th>name</th>\n",
              "      <td>Beer-Sheva Center</td>\n",
              "      <td>Beer-Sheva University</td>\n",
              "      <td>Dimona</td>\n",
              "      <td>NaN</td>\n",
              "      <td>NaN</td>\n",
              "      <td>NaN</td>\n",
              "      <td>NaN</td>\n",
              "      <td>NaN</td>\n",
              "      <td>NaN</td>\n",
              "    </tr>\n",
              "    <tr>\n",
              "      <th>lines</th>\n",
              "      <td>4.0</td>\n",
              "      <td>5.0</td>\n",
              "      <td>1.0</td>\n",
              "      <td>NaN</td>\n",
              "      <td>NaN</td>\n",
              "      <td>NaN</td>\n",
              "      <td>NaN</td>\n",
              "      <td>NaN</td>\n",
              "      <td>NaN</td>\n",
              "    </tr>\n",
              "    <tr>\n",
              "      <th>piano</th>\n",
              "      <td>False</td>\n",
              "      <td>True</td>\n",
              "      <td>False</td>\n",
              "      <td>NaN</td>\n",
              "      <td>NaN</td>\n",
              "      <td>NaN</td>\n",
              "      <td>NaN</td>\n",
              "      <td>NaN</td>\n",
              "      <td>NaN</td>\n",
              "    </tr>\n",
              "    <tr>\n",
              "      <th>lon</th>\n",
              "      <td>34.798443</td>\n",
              "      <td>34.812831</td>\n",
              "      <td>35.011635</td>\n",
              "      <td>NaN</td>\n",
              "      <td>NaN</td>\n",
              "      <td>NaN</td>\n",
              "      <td>NaN</td>\n",
              "      <td>NaN</td>\n",
              "      <td>NaN</td>\n",
              "    </tr>\n",
              "    <tr>\n",
              "      <th>lat</th>\n",
              "      <td>31.243288</td>\n",
              "      <td>31.260284</td>\n",
              "      <td>31.068616</td>\n",
              "      <td>NaN</td>\n",
              "      <td>NaN</td>\n",
              "      <td>NaN</td>\n",
              "      <td>NaN</td>\n",
              "      <td>NaN</td>\n",
              "      <td>NaN</td>\n",
              "    </tr>\n",
              "    <tr>\n",
              "      <th>city</th>\n",
              "      <td>Beer-Sheva</td>\n",
              "      <td>Beer-Sheva</td>\n",
              "      <td>Dimona</td>\n",
              "      <td>NaN</td>\n",
              "      <td>NaN</td>\n",
              "      <td>NaN</td>\n",
              "      <td>NaN</td>\n",
              "      <td>NaN</td>\n",
              "      <td>NaN</td>\n",
              "    </tr>\n",
              "    <tr>\n",
              "      <th>0</th>\n",
              "      <td>NaN</td>\n",
              "      <td>NaN</td>\n",
              "      <td>NaN</td>\n",
              "      <td>Arad</td>\n",
              "      <td>1</td>\n",
              "      <td>False</td>\n",
              "      <td>35.206826</td>\n",
              "      <td>31.261101</td>\n",
              "      <td>Arad</td>\n",
              "    </tr>\n",
              "  </tbody>\n",
              "</table>\n",
              "</div>"
            ],
            "text/plain": [
              "                       0                      1          2  name lines  piano  \\\n",
              "name   Beer-Sheva Center  Beer-Sheva University     Dimona   NaN   NaN    NaN   \n",
              "lines                4.0                    5.0        1.0   NaN   NaN    NaN   \n",
              "piano              False                   True      False   NaN   NaN    NaN   \n",
              "lon            34.798443              34.812831  35.011635   NaN   NaN    NaN   \n",
              "lat            31.243288              31.260284  31.068616   NaN   NaN    NaN   \n",
              "city          Beer-Sheva             Beer-Sheva     Dimona   NaN   NaN    NaN   \n",
              "0                    NaN                    NaN        NaN  Arad     1  False   \n",
              "\n",
              "             lon        lat  city  \n",
              "name         NaN        NaN   NaN  \n",
              "lines        NaN        NaN   NaN  \n",
              "piano        NaN        NaN   NaN  \n",
              "lon          NaN        NaN   NaN  \n",
              "lat          NaN        NaN   NaN  \n",
              "city         NaN        NaN   NaN  \n",
              "0      35.206826  31.261101  Arad  "
            ]
          },
          "execution_count": 8,
          "metadata": {},
          "output_type": "execute_result"
        }
      ],
      "source": [
        "# new row\n",
        "new_station = pd.Series({'name': 'Arad', 'lines': 1, 'piano': False, 'lon': 35.206826, 'lat': 31.261101, 'city': 'Arad'})\n",
        "stations = pd.concat([stations, new_station], axis=1).T\n",
        "stations"
      ]
    },
    {
      "cell_type": "markdown",
      "id": "nLsOTBznwshN",
      "metadata": {
        "id": "nLsOTBznwshN"
      },
      "source": [
        "## 1.4\n",
        "Determine the four data types (`dtypes`) of the columns in the DataFrame.  \n",
        "\n",
        "**Hint:** You can use the DataFrame's built-in attribute `dtypes` to check the data types of all columns.**bold text**"
      ]
    },
    {
      "cell_type": "code",
      "execution_count": 9,
      "id": "40ee41a1",
      "metadata": {
        "id": "40ee41a1"
      },
      "outputs": [
        {
          "name": "stdout",
          "output_type": "stream",
          "text": [
            "0        object\n",
            "1        object\n",
            "2        object\n",
            "name     object\n",
            "lines    object\n",
            "piano    object\n",
            "lon      object\n",
            "lat      object\n",
            "city     object\n",
            "dtype: object\n"
          ]
        }
      ],
      "source": [
        "print(stations.dtypes)"
      ]
    },
    {
      "cell_type": "markdown",
      "id": "599bb29e",
      "metadata": {
        "id": "599bb29e"
      },
      "source": [
        "# 2\n",
        "Change a value"
      ]
    },
    {
      "cell_type": "markdown",
      "id": "reQEdHgtx-P0",
      "metadata": {
        "id": "reQEdHgtx-P0"
      },
      "source": [
        "## 2.1\n",
        "The Beer-Sheva University train station has added a piano. Update the DataFrame to reflect this change by modifying the value in the \"piano\" column for the relevant row from False to True.\n",
        "\n",
        "**Hint**: You can use `.at` to update a specific cell value efficiently when you know the exact row index and column name.\n",
        "\n",
        "```python\n",
        "df.at[row_index, column_name] = new_value\n",
        "```  "
      ]
    },
    {
      "cell_type": "code",
      "execution_count": null,
      "id": "6c5ea86e",
      "metadata": {
        "id": "6c5ea86e"
      },
      "outputs": [],
      "source": []
    },
    {
      "cell_type": "markdown",
      "id": "dfTsEVeB06-d",
      "metadata": {
        "id": "dfTsEVeB06-d"
      },
      "source": [
        "## 2.2\n",
        "Assign new values to the entire lines column in two ways:\n",
        "1. **Different values for each item**:  \n",
        "   You can assign a list or array of values with the same length as the column.\n",
        "2. **The same value for all items**:  \n",
        "   Assign a single value to the entire column.\n",
        "   ```"
      ]
    },
    {
      "cell_type": "code",
      "execution_count": 10,
      "id": "3c1da42b",
      "metadata": {
        "id": "3c1da42b"
      },
      "outputs": [
        {
          "name": "stdout",
          "output_type": "stream",
          "text": [
            "2.2.3\n"
          ]
        }
      ],
      "source": [
        "print(pd.__version__)"
      ]
    },
    {
      "cell_type": "code",
      "execution_count": null,
      "id": "23742e9f",
      "metadata": {
        "id": "23742e9f"
      },
      "outputs": [],
      "source": []
    },
    {
      "cell_type": "markdown",
      "id": "cWN_A6SY1frZ",
      "metadata": {
        "id": "cWN_A6SY1frZ"
      },
      "source": [
        "\n",
        "## 2.3\n",
        "Create a new column named \"cafe\" in the DataFrame to indicate whether the station has a cozy café. You can assign values directly, such as True for stations with a café and False otherwise."
      ]
    },
    {
      "cell_type": "code",
      "execution_count": null,
      "id": "e6382cbf",
      "metadata": {
        "id": "e6382cbf"
      },
      "outputs": [],
      "source": []
    },
    {
      "cell_type": "markdown",
      "id": "d647c205",
      "metadata": {
        "id": "d647c205"
      },
      "source": [
        "# 3\n",
        "Load data-frame\n",
        "\n"
      ]
    },
    {
      "cell_type": "markdown",
      "id": "jHPOpKZp4K1A",
      "metadata": {
        "id": "jHPOpKZp4K1A"
      },
      "source": [
        "## **Mission:**  \n",
        "3.1. Save the current DataFrame as a CSV or Excel file.  \n",
        "3.2. Open the saved file in a text editor or spreadsheet software (such as Excel), make a small change to the data, and save the file.  \n",
        "3.3. Reload the modified file back into a DataFrame and inspect the contents to ensure the changes were applied correctly.  \n",
        "\n",
        "**Hints:**  \n",
        "- To save as CSV: `df.to_csv('filename.csv', index=False)`  \n",
        "- To save as Excel: `df.to_excel('filename.xlsx', index=False)`  \n",
        "- To reload a CSV: `pd.read_csv('filename.csv')`  \n",
        "- To reload an Excel file: `pd.read_excel('filename.xlsx')`\n"
      ]
    },
    {
      "cell_type": "code",
      "execution_count": null,
      "id": "ed7de808",
      "metadata": {
        "id": "ed7de808"
      },
      "outputs": [],
      "source": []
    }
  ],
  "metadata": {
    "colab": {
      "include_colab_link": true,
      "provenance": []
    },
    "kernelspec": {
      "display_name": ".venv",
      "language": "python",
      "name": "python3"
    },
    "language_info": {
      "codemirror_mode": {
        "name": "ipython",
        "version": 3
      },
      "file_extension": ".py",
      "mimetype": "text/x-python",
      "name": "python",
      "nbconvert_exporter": "python",
      "pygments_lexer": "ipython3",
      "version": "3.11.0"
    }
  },
  "nbformat": 4,
  "nbformat_minor": 5
}
